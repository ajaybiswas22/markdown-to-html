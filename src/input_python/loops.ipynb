{
 "cells": [
  {
   "attachments": {},
   "cell_type": "markdown",
   "metadata": {},
   "source": [
    "# Python Loops"
   ]
  },
  {
   "attachments": {},
   "cell_type": "markdown",
   "metadata": {},
   "source": [
    "## Introduction\n",
    "\n",
    "Loops are essential part of any programming language. Without them, your code will have too much redundant lines and have poor readability. Loops allows a task to be performed multiple times, like generating numbers from 1 to 1000, or printing contents of a file on screen.\n",
    "\n",
    "We already have seen loops previously, but here we will be discussing them more deeply."
   ]
  },
  {
   "attachments": {},
   "cell_type": "markdown",
   "metadata": {},
   "source": [
    "## Python for loop\n",
    "\n",
    "A for loop is used to iterate over a sequence like list, tuple, dictionary or string. Unlike other languages, for loops in python works like an iterator method. "
   ]
  },
  {
   "cell_type": "code",
   "execution_count": null,
   "metadata": {
    "vscode": {
     "languageId": "plaintext"
    }
   },
   "outputs": [],
   "source": [
    "items = [10,20,30,40]\n",
    "for item in items:\n",
    "    print(item)"
   ]
  },
  {
   "attachments": {},
   "cell_type": "markdown",
   "metadata": {},
   "source": [
    "For loops can also use range function to work like loops in other languages. "
   ]
  },
  {
   "cell_type": "code",
   "execution_count": null,
   "metadata": {
    "vscode": {
     "languageId": "plaintext"
    }
   },
   "outputs": [],
   "source": [
    "fruits = ['apple','mango','banana']\n",
    "for i in range(len(fruits)):\n",
    "    print(fruits[i])"
   ]
  },
  {
   "attachments": {},
   "cell_type": "markdown",
   "metadata": {},
   "source": [
    "## For loop with break and continue"
   ]
  },
  {
   "attachments": {},
   "cell_type": "markdown",
   "metadata": {},
   "source": [
    "For loops could be stopped or skipped before completion of execution using break and continue keywords respectively. Let's see with some examples."
   ]
  },
  {
   "cell_type": "code",
   "execution_count": null,
   "metadata": {
    "vscode": {
     "languageId": "plaintext"
    }
   },
   "outputs": [],
   "source": [
    "for i in range(0,10):\n",
    "    if(i==5):\n",
    "        break\n",
    "    if(i==3):\n",
    "        continue\n",
    "    print(i)"
   ]
  },
  {
   "attachments": {},
   "cell_type": "markdown",
   "metadata": {},
   "source": [
    "## For loop with else"
   ]
  },
  {
   "attachments": {},
   "cell_type": "markdown",
   "metadata": {},
   "source": [
    "The **else** keyword in for loop is used to execute a code block after the loop has finished running."
   ]
  },
  {
   "cell_type": "code",
   "execution_count": null,
   "metadata": {
    "vscode": {
     "languageId": "plaintext"
    }
   },
   "outputs": [],
   "source": [
    "for i in range(3):\n",
    "    print(i)\n",
    "else:\n",
    "    print(\"finished\")"
   ]
  },
  {
   "attachments": {},
   "cell_type": "markdown",
   "metadata": {},
   "source": [
    "If **break** is encountered during execution of for loop then the else block won't be executed."
   ]
  },
  {
   "cell_type": "code",
   "execution_count": null,
   "metadata": {
    "vscode": {
     "languageId": "plaintext"
    }
   },
   "outputs": [],
   "source": [
    "for i in range(3):\n",
    "    if(i==2):\n",
    "        break\n",
    "else:\n",
    "    print(\"finished\")"
   ]
  }
 ],
 "metadata": {
  "language_info": {
   "name": "python"
  },
  "orig_nbformat": 4
 },
 "nbformat": 4,
 "nbformat_minor": 2
}
