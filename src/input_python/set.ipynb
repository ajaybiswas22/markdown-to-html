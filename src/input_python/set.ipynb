{
 "cells": [
  {
   "attachments": {},
   "cell_type": "markdown",
   "metadata": {},
   "source": [
    "# Python Set"
   ]
  },
  {
   "attachments": {},
   "cell_type": "markdown",
   "metadata": {},
   "source": [
    "If you have studied set theory in mathematics then you already have basic understanding how set works. Set is a group of unique elements. Python sets are unordered and allows no duplicate. They are mutable, however, the elements inside it must be immutable. Sets are mostly used where we don't want duplicate values. Sets can be either be created using curly braces {} or be converted from lists or tuples using the set constructor."
   ]
  },
  {
   "cell_type": "code",
   "execution_count": 2,
   "metadata": {},
   "outputs": [
    {
     "name": "stdout",
     "output_type": "stream",
     "text": [
      "{'a', 'c', 'd', 'b'}\n"
     ]
    }
   ],
   "source": [
    "letters = {'b','a','c','d'}\n",
    "print(letters)"
   ]
  },
  {
   "cell_type": "code",
   "execution_count": 3,
   "metadata": {},
   "outputs": [
    {
     "name": "stdout",
     "output_type": "stream",
     "text": [
      "{'B', 'A', 'C'}\n"
     ]
    }
   ],
   "source": [
    "caps = set(['A','B','B','C'])\n",
    "print(caps)"
   ]
  }
 ],
 "metadata": {
  "kernelspec": {
   "display_name": "general",
   "language": "python",
   "name": "python3"
  },
  "language_info": {
   "codemirror_mode": {
    "name": "ipython",
    "version": 3
   },
   "file_extension": ".py",
   "mimetype": "text/x-python",
   "name": "python",
   "nbconvert_exporter": "python",
   "pygments_lexer": "ipython3",
   "version": "3.10.6"
  },
  "orig_nbformat": 4,
  "vscode": {
   "interpreter": {
    "hash": "316ce6a70372e3fa82ed6d79667e6bd3cc5149b663b2af0a5db90fbde7ffa945"
   }
  }
 },
 "nbformat": 4,
 "nbformat_minor": 2
}
