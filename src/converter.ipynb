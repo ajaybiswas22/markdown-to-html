{
 "cells": [
  {
   "cell_type": "code",
   "execution_count": 1,
   "metadata": {},
   "outputs": [],
   "source": [
    "import pandas as pd\n",
    "import os\n",
    "import re"
   ]
  },
  {
   "cell_type": "code",
   "execution_count": 2,
   "metadata": {},
   "outputs": [],
   "source": [
    "def heading_html(in_str:str):\n",
    "\n",
    "    # remove leading and trailing whitespace\n",
    "    str_raw = in_str.strip()\n",
    "    out_str = \"\"\n",
    "\n",
    "    if(str_raw.startswith(\"#####\")):\n",
    "        out_str = \"<h5>\" + str_raw[6:] + \"</h5>\"\n",
    "    elif(str_raw.startswith(\"####\")):\n",
    "        out_str = \"<h4>\" + str_raw[5:] + \"</h4>\"\n",
    "    elif(str_raw.startswith(\"###\")):\n",
    "        out_str = \"<h3>\" + str_raw[4:] + \"</h3>\"\n",
    "    elif(str_raw.startswith(\"##\")):\n",
    "        out_str = \"<h2>\" + str_raw[3:] + \"</h2>\"\n",
    "\n",
    "    else:\n",
    "        out_str = str_raw\n",
    "\n",
    "    return out_str"
   ]
  },
  {
   "cell_type": "code",
   "execution_count": 3,
   "metadata": {},
   "outputs": [],
   "source": [
    "def code_html_first(in_str:str):\n",
    "\n",
    "    # remove leading and trailing whitespace\n",
    "    str_raw = in_str.strip()\n",
    "    out_str = str_raw\n",
    "\n",
    "    out_str = re.sub(\"```python\", \"<pre class=\\\"prettyprint linenums lang-python\\\"><code>\", out_str)\n",
    "    out_str = re.sub(\"```c\", \"<pre class=\\\"prettyprint linenums lang-c\\\"><code>\", out_str)\n",
    "    out_str = re.sub(\"```java\", \"<pre class=\\\"prettyprint linenums lang-python\\\"><code>\", out_str)\n",
    "    out_str = re.sub(\"```\", \"<pre><code>\", out_str)\n",
    "        \n",
    "    return out_str"
   ]
  },
  {
   "cell_type": "code",
   "execution_count": 4,
   "metadata": {},
   "outputs": [],
   "source": [
    "def code_html_last(in_str:str):\n",
    "\n",
    "    # remove leading and trailing whitespace\n",
    "    s = in_str.strip()\n",
    "    sub = '```'\n",
    "    nth = 2\n",
    "    repl = '</pre></code>'\n",
    "    find = s.find(sub)\n",
    "    # loop util we find no match\n",
    "    i = 1\n",
    "    while find != -1:\n",
    "        # if i  is equal to nth we found nth matches so replace\n",
    "        if i == nth:\n",
    "            s = s[:find]+repl+s[find + len(sub):]\n",
    "            i = 0\n",
    "        # find + len(sub) + 1 means we start after the last match\n",
    "        find = s.find(sub, find + len(sub) + 1)\n",
    "        i += 1\n",
    "    return s"
   ]
  },
  {
   "cell_type": "code",
   "execution_count": 5,
   "metadata": {},
   "outputs": [],
   "source": [
    "\n",
    "# read\n",
    "fin = os.listdir('input_python')\n",
    "fin = [x for x in fin if x.endswith(\".md\")]\n",
    "\n",
    "for i in range(len(fin)):\n",
    "    with open('input_python/'+fin[i]) as file:\n",
    "        data = file.read()\n",
    "        p_data = data\n",
    "        p_data = code_html_last(p_data)\n",
    "        p_data = code_html_first(p_data)\n",
    "        p_data = '\\n'.join([heading_html(x) for x in p_data.splitlines()])\n",
    "\n",
    "        fout = open('output_python/'+os.path.splitext(fin[i])[0]+'.txt', \"w\")\n",
    "        n = fout.write(p_data)\n",
    "        fout.close()\n"
   ]
  }
 ],
 "metadata": {
  "kernelspec": {
   "display_name": "Python 3",
   "language": "python",
   "name": "python3"
  },
  "language_info": {
   "codemirror_mode": {
    "name": "ipython",
    "version": 3
   },
   "file_extension": ".py",
   "mimetype": "text/x-python",
   "name": "python",
   "nbconvert_exporter": "python",
   "pygments_lexer": "ipython3",
   "version": "3.10.6"
  },
  "orig_nbformat": 4
 },
 "nbformat": 4,
 "nbformat_minor": 2
}
