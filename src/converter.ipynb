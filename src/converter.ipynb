{
 "cells": [
  {
   "cell_type": "code",
   "execution_count": 1,
   "metadata": {},
   "outputs": [],
   "source": [
    "import pandas as pd\n",
    "import os"
   ]
  },
  {
   "cell_type": "code",
   "execution_count": 10,
   "metadata": {},
   "outputs": [
    {
     "data": {
      "text/plain": [
       "['Inheritance.md',\n",
       " 'Lambda.md',\n",
       " 'readme.md',\n",
       " 'Yield.md',\n",
       " 'Decorator.md',\n",
       " 'list.md',\n",
       " 'Generator.md',\n",
       " 'File_Handling.md',\n",
       " 'introduction.md',\n",
       " 'Classes_and_Objects.md',\n",
       " 'Iterator.md',\n",
       " 'dictionary.md']"
      ]
     },
     "execution_count": 10,
     "metadata": {},
     "output_type": "execute_result"
    }
   ],
   "source": [
    "python_f = os.listdir('input_python')\n",
    "python_f = [x for x in python_f if x.endswith(\".md\")]\n",
    "python_f"
   ]
  },
  {
   "cell_type": "code",
   "execution_count": 12,
   "metadata": {},
   "outputs": [],
   "source": [
    "# read\n",
    "\n",
    "with open('input_python/'+python_f[3]) as file:\n",
    "    data = file.read()"
   ]
  }
 ],
 "metadata": {
  "kernelspec": {
   "display_name": "Python 3",
   "language": "python",
   "name": "python3"
  },
  "language_info": {
   "codemirror_mode": {
    "name": "ipython",
    "version": 3
   },
   "file_extension": ".py",
   "mimetype": "text/x-python",
   "name": "python",
   "nbconvert_exporter": "python",
   "pygments_lexer": "ipython3",
   "version": "3.10.6"
  },
  "orig_nbformat": 4
 },
 "nbformat": 4,
 "nbformat_minor": 2
}
