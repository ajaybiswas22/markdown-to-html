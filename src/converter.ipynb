{
 "cells": [
  {
   "cell_type": "code",
   "execution_count": 20,
   "metadata": {},
   "outputs": [],
   "source": [
    "import pandas as pd\n",
    "import os\n",
    "import re"
   ]
  },
  {
   "cell_type": "code",
   "execution_count": 3,
   "metadata": {},
   "outputs": [
    {
     "data": {
      "text/plain": [
       "['Inheritance.md',\n",
       " 'Lambda.md',\n",
       " 'readme.md',\n",
       " 'Yield.md',\n",
       " 'Decorator.md',\n",
       " 'list.md',\n",
       " 'Generator.md',\n",
       " 'File_Handling.md',\n",
       " 'introduction.md',\n",
       " 'Classes_and_Objects.md',\n",
       " 'Iterator.md',\n",
       " 'dictionary.md']"
      ]
     },
     "execution_count": 3,
     "metadata": {},
     "output_type": "execute_result"
    }
   ],
   "source": [
    "python_f = os.listdir('input_python')\n",
    "python_f = [x for x in python_f if x.endswith(\".md\")]\n",
    "python_f"
   ]
  },
  {
   "cell_type": "code",
   "execution_count": 4,
   "metadata": {},
   "outputs": [],
   "source": [
    "# read\n",
    "\n",
    "with open('input_python/'+python_f[3]) as file:\n",
    "    data = file.read()"
   ]
  },
  {
   "cell_type": "code",
   "execution_count": 33,
   "metadata": {},
   "outputs": [],
   "source": [
    "def newline_html(in_str:str):\n",
    "\n",
    "    # remove leading and trailing whitespace\n",
    "    str_raw = in_str.strip()\n",
    "    out_str = str_raw.replace(\"\\n\",\"<br/>\")\n",
    "    return out_str"
   ]
  },
  {
   "cell_type": "code",
   "execution_count": 34,
   "metadata": {},
   "outputs": [],
   "source": [
    "def heading_html(in_str:str):\n",
    "\n",
    "    # remove leading and trailing whitespace\n",
    "    str_raw = in_str.strip()\n",
    "    out_str = \"\"\n",
    "\n",
    "    if(str_raw.startswith(\"#####\")):\n",
    "        out_str = \"<h5>\" + str_raw[6:] + \"</h5>\"\n",
    "    elif(str_raw.startswith(\"####\")):\n",
    "        out_str = \"<h4>\" + str_raw[5:] + \"</h4>\"\n",
    "    elif(str_raw.startswith(\"###\")):\n",
    "        out_str = \"<h3>\" + str_raw[4:] + \"</h3>\"\n",
    "    elif(str_raw.startswith(\"##\")):\n",
    "        out_str = \"<h2>\" + str_raw[3:] + \"</h2>\"\n",
    "    elif(str_raw.startswith(\"#\")):\n",
    "        out_str = \"<h1>\" + str_raw[2:] + \"</h1>\"\n",
    "    else:\n",
    "        out_str = str_raw\n",
    "\n",
    "    return out_str"
   ]
  },
  {
   "cell_type": "code",
   "execution_count": 35,
   "metadata": {},
   "outputs": [],
   "source": [
    "def code_html(in_str:str):\n",
    "\n",
    "    # remove leading and trailing whitespace\n",
    "    str_raw = in_str.strip()\n",
    "    out_str = \"\"\n",
    "\n",
    "    if(str_raw.startswith(\"```python\") and str_raw.endswith(\"```\")):\n",
    "        out_str = re.sub(\"```python\", \"<pre class=\\\"prettyprint linenums lang-python\\\"><code>\", str_raw)\n",
    "        out_str = re.sub(\"```\", \"</code></pre>\", out_str)\n",
    "    elif(str_raw.startswith(\"```c\") and str_raw.endswith(\"```\")):\n",
    "        out_str = re.sub(\"```python\", \"<pre class=\\\"prettyprint linenums lang-c\\\"><code>\", str_raw)\n",
    "        out_str = re.sub(\"```\", \"</code></pre>\", out_str)\n",
    "    elif(str_raw.startswith(\"```java\") and str_raw.endswith(\"```\")):\n",
    "        out_str = re.sub(\"```java\", \"<pre class=\\\"prettyprint linenums lang-python\\\"><code>\", str_raw)\n",
    "        out_str = re.sub(\"```\", \"</code></pre>\", out_str)\n",
    "    elif(str_raw.startswith(\"```\") and str_raw.endswith(\"```\")):\n",
    "        out_str = re.sub(\"```\", \"<pre><code>\", str_raw)\n",
    "        out_str = re.sub(\"```\", \"</code></pre>\", out_str)\n",
    "    else:\n",
    "        out_str = str_raw\n",
    "        \n",
    "    return out_str"
   ]
  }
 ],
 "metadata": {
  "kernelspec": {
   "display_name": "Python 3",
   "language": "python",
   "name": "python3"
  },
  "language_info": {
   "codemirror_mode": {
    "name": "ipython",
    "version": 3
   },
   "file_extension": ".py",
   "mimetype": "text/x-python",
   "name": "python",
   "nbconvert_exporter": "python",
   "pygments_lexer": "ipython3",
   "version": "3.10.6"
  },
  "orig_nbformat": 4
 },
 "nbformat": 4,
 "nbformat_minor": 2
}
